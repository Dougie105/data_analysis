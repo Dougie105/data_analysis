{
 "cells": [
  {
   "cell_type": "markdown",
   "metadata": {},
   "source": [
    "# Bike Stats\n",
    "### Terrell Douglas 12/16/19"
   ]
  },
  {
   "cell_type": "code",
   "execution_count": 1,
   "metadata": {},
   "outputs": [],
   "source": [
    "import pandas as pd\n",
    "import numpy as np"
   ]
  },
  {
   "cell_type": "code",
   "execution_count": 29,
   "metadata": {},
   "outputs": [],
   "source": [
    "df_station = pd.read_csv('./cycle-share-dataset/station.csv')\n",
    "df_weather = pd.read_csv('./cycle-share-dataset/weather.csv')\n",
    "df_trip = pd.read_csv('./cycle-share-dataset/trip.csv', skiprows = [50793])"
   ]
  },
  {
   "cell_type": "markdown",
   "metadata": {},
   "source": [
    "#### What is the average trip duration for a borrowed bicycle?"
   ]
  },
  {
   "cell_type": "code",
   "execution_count": 71,
   "metadata": {},
   "outputs": [
    {
     "data": {
      "text/plain": [
       "tripduration    1178.295675\n",
       "dtype: float64"
      ]
     },
     "execution_count": 71,
     "metadata": {},
     "output_type": "execute_result"
    }
   ],
   "source": [
    "df_trip[['tripduration']].mean()"
   ]
  },
  {
   "cell_type": "markdown",
   "metadata": {},
   "source": [
    "#### What’s the most common age of a bicycle-sharer?"
   ]
  },
  {
   "cell_type": "code",
   "execution_count": 70,
   "metadata": {},
   "outputs": [
    {
     "data": {
      "text/html": [
       "<div>\n",
       "<style scoped>\n",
       "    .dataframe tbody tr th:only-of-type {\n",
       "        vertical-align: middle;\n",
       "    }\n",
       "\n",
       "    .dataframe tbody tr th {\n",
       "        vertical-align: top;\n",
       "    }\n",
       "\n",
       "    .dataframe thead th {\n",
       "        text-align: right;\n",
       "    }\n",
       "</style>\n",
       "<table border=\"1\" class=\"dataframe\">\n",
       "  <thead>\n",
       "    <tr style=\"text-align: right;\">\n",
       "      <th></th>\n",
       "      <th>birthyear</th>\n",
       "    </tr>\n",
       "  </thead>\n",
       "  <tbody>\n",
       "    <tr>\n",
       "      <th>0</th>\n",
       "      <td>32.0</td>\n",
       "    </tr>\n",
       "  </tbody>\n",
       "</table>\n",
       "</div>"
      ],
      "text/plain": [
       "   birthyear\n",
       "0       32.0"
      ]
     },
     "execution_count": 70,
     "metadata": {},
     "output_type": "execute_result"
    }
   ],
   "source": [
    "year = df_trip[['birthyear']].mode()\n",
    "2019 - year"
   ]
  },
  {
   "cell_type": "markdown",
   "metadata": {},
   "source": [
    "#### Given all the weather data here, find the average precipitation per month, and the median precipitation.\n"
   ]
  },
  {
   "cell_type": "code",
   "execution_count": 122,
   "metadata": {},
   "outputs": [
    {
     "data": {
      "text/plain": [
       "0.0"
      ]
     },
     "execution_count": 122,
     "metadata": {},
     "output_type": "execute_result"
    }
   ],
   "source": [
    "df_weather['Precipitation_In'].median()"
   ]
  },
  {
   "cell_type": "markdown",
   "metadata": {},
   "source": [
    "#### What’s the average number of bikes at a given bike station?"
   ]
  },
  {
   "cell_type": "code",
   "execution_count": 69,
   "metadata": {},
   "outputs": [
    {
     "data": {
      "text/html": [
       "<div>\n",
       "<style scoped>\n",
       "    .dataframe tbody tr th:only-of-type {\n",
       "        vertical-align: middle;\n",
       "    }\n",
       "\n",
       "    .dataframe tbody tr th {\n",
       "        vertical-align: top;\n",
       "    }\n",
       "\n",
       "    .dataframe thead th {\n",
       "        text-align: right;\n",
       "    }\n",
       "</style>\n",
       "<table border=\"1\" class=\"dataframe\">\n",
       "  <thead>\n",
       "    <tr style=\"text-align: right;\">\n",
       "      <th></th>\n",
       "      <th>current_dockcount</th>\n",
       "    </tr>\n",
       "  </thead>\n",
       "  <tbody>\n",
       "    <tr>\n",
       "      <th>0</th>\n",
       "      <td>18</td>\n",
       "    </tr>\n",
       "  </tbody>\n",
       "</table>\n",
       "</div>"
      ],
      "text/plain": [
       "   current_dockcount\n",
       "0                 18"
      ]
     },
     "execution_count": 69,
     "metadata": {},
     "output_type": "execute_result"
    }
   ],
   "source": [
    "df_station[['current_dockcount']].mode()"
   ]
  },
  {
   "cell_type": "markdown",
   "metadata": {},
   "source": [
    "#### When a bike station is modified, is it more likely that it’ll lose bikes or gain bikes? How do you know?\n"
   ]
  },
  {
   "cell_type": "code",
   "execution_count": 77,
   "metadata": {},
   "outputs": [
    {
     "data": {
      "text/plain": [
       "-1.6380952380952376"
      ]
     },
     "execution_count": 77,
     "metadata": {},
     "output_type": "execute_result"
    }
   ],
   "source": [
    "temp_old = df_station.sort_values('modification_date',  ascending= False)['current_dockcount'].tail(42)\n",
    "temp_new = df_station.sort_values('modification_date',  ascending= False)['current_dockcount'].head(15)\n",
    "new = temp_new.mean()\n",
    "old = temp_old.mean()\n",
    "new - old"
   ]
  },
  {
   "cell_type": "markdown",
   "metadata": {},
   "source": [
    "## Come up with 3 more questions that can be answered with this data set."
   ]
  },
  {
   "cell_type": "markdown",
   "metadata": {},
   "source": [
    "#### Did more men or women use the bikeshare program?"
   ]
  },
  {
   "cell_type": "code",
   "execution_count": 121,
   "metadata": {},
   "outputs": [
    {
     "data": {
      "text/plain": [
       "0    Male\n",
       "dtype: object"
      ]
     },
     "execution_count": 121,
     "metadata": {},
     "output_type": "execute_result"
    }
   ],
   "source": [
    "df_trip['gender'].mode()"
   ]
  },
  {
   "cell_type": "markdown",
   "metadata": {},
   "source": [
    "#### Top 5 furthest trips taken"
   ]
  },
  {
   "cell_type": "code",
   "execution_count": 126,
   "metadata": {},
   "outputs": [
    {
     "data": {
      "text/html": [
       "<div>\n",
       "<style scoped>\n",
       "    .dataframe tbody tr th:only-of-type {\n",
       "        vertical-align: middle;\n",
       "    }\n",
       "\n",
       "    .dataframe tbody tr th {\n",
       "        vertical-align: top;\n",
       "    }\n",
       "\n",
       "    .dataframe thead th {\n",
       "        text-align: right;\n",
       "    }\n",
       "</style>\n",
       "<table border=\"1\" class=\"dataframe\">\n",
       "  <thead>\n",
       "    <tr style=\"text-align: right;\">\n",
       "      <th></th>\n",
       "      <th>trip_id</th>\n",
       "      <th>starttime</th>\n",
       "      <th>stoptime</th>\n",
       "      <th>bikeid</th>\n",
       "      <th>tripduration</th>\n",
       "      <th>from_station_name</th>\n",
       "      <th>to_station_name</th>\n",
       "      <th>from_station_id</th>\n",
       "      <th>to_station_id</th>\n",
       "      <th>usertype</th>\n",
       "      <th>gender</th>\n",
       "      <th>birthyear</th>\n",
       "    </tr>\n",
       "  </thead>\n",
       "  <tbody>\n",
       "    <tr>\n",
       "      <th>163148</th>\n",
       "      <td>124491</td>\n",
       "      <td>8/7/2015 17:53</td>\n",
       "      <td>8/8/2015 1:53</td>\n",
       "      <td>SEA00420</td>\n",
       "      <td>28794.398</td>\n",
       "      <td>Eastlake Ave E &amp; E Allison St</td>\n",
       "      <td>2nd Ave &amp; Pine St</td>\n",
       "      <td>EL-05</td>\n",
       "      <td>CBD-13</td>\n",
       "      <td>Short-Term Pass Holder</td>\n",
       "      <td>NaN</td>\n",
       "      <td>NaN</td>\n",
       "    </tr>\n",
       "    <tr>\n",
       "      <th>231806</th>\n",
       "      <td>197134</td>\n",
       "      <td>4/8/2016 14:25</td>\n",
       "      <td>4/8/2016 22:24</td>\n",
       "      <td>SEA00085</td>\n",
       "      <td>28779.864</td>\n",
       "      <td>3rd Ave &amp; Broad St</td>\n",
       "      <td>15th Ave E &amp; E Thomas St</td>\n",
       "      <td>BT-01</td>\n",
       "      <td>CH-05</td>\n",
       "      <td>Short-Term Pass Holder</td>\n",
       "      <td>NaN</td>\n",
       "      <td>NaN</td>\n",
       "    </tr>\n",
       "    <tr>\n",
       "      <th>154789</th>\n",
       "      <td>115593</td>\n",
       "      <td>7/24/2015 17:22</td>\n",
       "      <td>7/25/2015 1:21</td>\n",
       "      <td>SEA00098</td>\n",
       "      <td>28727.481</td>\n",
       "      <td>E Harrison St &amp; Broadway Ave E</td>\n",
       "      <td>E Harrison St &amp; Broadway Ave E</td>\n",
       "      <td>CH-02</td>\n",
       "      <td>CH-02</td>\n",
       "      <td>Short-Term Pass Holder</td>\n",
       "      <td>NaN</td>\n",
       "      <td>NaN</td>\n",
       "    </tr>\n",
       "    <tr>\n",
       "      <th>63052</th>\n",
       "      <td>15191</td>\n",
       "      <td>11/19/2014 9:23</td>\n",
       "      <td>11/19/2014 17:21</td>\n",
       "      <td>SEA00401</td>\n",
       "      <td>28690.725</td>\n",
       "      <td>Key Arena / 1st Ave N &amp; Harrison St</td>\n",
       "      <td>Key Arena / 1st Ave N &amp; Harrison St</td>\n",
       "      <td>SLU-19</td>\n",
       "      <td>SLU-19</td>\n",
       "      <td>Short-Term Pass Holder</td>\n",
       "      <td>NaN</td>\n",
       "      <td>NaN</td>\n",
       "    </tr>\n",
       "    <tr>\n",
       "      <th>12260</th>\n",
       "      <td>15191</td>\n",
       "      <td>11/19/2014 9:23</td>\n",
       "      <td>11/19/2014 17:21</td>\n",
       "      <td>SEA00401</td>\n",
       "      <td>28690.725</td>\n",
       "      <td>Key Arena / 1st Ave N &amp; Harrison St</td>\n",
       "      <td>Key Arena / 1st Ave N &amp; Harrison St</td>\n",
       "      <td>SLU-19</td>\n",
       "      <td>SLU-19</td>\n",
       "      <td>Short-Term Pass Holder</td>\n",
       "      <td>NaN</td>\n",
       "      <td>NaN</td>\n",
       "    </tr>\n",
       "  </tbody>\n",
       "</table>\n",
       "</div>"
      ],
      "text/plain": [
       "        trip_id        starttime          stoptime    bikeid  tripduration  \\\n",
       "163148   124491   8/7/2015 17:53     8/8/2015 1:53  SEA00420     28794.398   \n",
       "231806   197134   4/8/2016 14:25    4/8/2016 22:24  SEA00085     28779.864   \n",
       "154789   115593  7/24/2015 17:22    7/25/2015 1:21  SEA00098     28727.481   \n",
       "63052     15191  11/19/2014 9:23  11/19/2014 17:21  SEA00401     28690.725   \n",
       "12260     15191  11/19/2014 9:23  11/19/2014 17:21  SEA00401     28690.725   \n",
       "\n",
       "                          from_station_name  \\\n",
       "163148        Eastlake Ave E & E Allison St   \n",
       "231806                   3rd Ave & Broad St   \n",
       "154789       E Harrison St & Broadway Ave E   \n",
       "63052   Key Arena / 1st Ave N & Harrison St   \n",
       "12260   Key Arena / 1st Ave N & Harrison St   \n",
       "\n",
       "                            to_station_name from_station_id to_station_id  \\\n",
       "163148                    2nd Ave & Pine St           EL-05        CBD-13   \n",
       "231806             15th Ave E & E Thomas St           BT-01         CH-05   \n",
       "154789       E Harrison St & Broadway Ave E           CH-02         CH-02   \n",
       "63052   Key Arena / 1st Ave N & Harrison St          SLU-19        SLU-19   \n",
       "12260   Key Arena / 1st Ave N & Harrison St          SLU-19        SLU-19   \n",
       "\n",
       "                      usertype gender  birthyear  \n",
       "163148  Short-Term Pass Holder    NaN        NaN  \n",
       "231806  Short-Term Pass Holder    NaN        NaN  \n",
       "154789  Short-Term Pass Holder    NaN        NaN  \n",
       "63052   Short-Term Pass Holder    NaN        NaN  \n",
       "12260   Short-Term Pass Holder    NaN        NaN  "
      ]
     },
     "execution_count": 126,
     "metadata": {},
     "output_type": "execute_result"
    }
   ],
   "source": [
    "df_trip.sort_values(by='tripduration', ascending = False).head(5)"
   ]
  },
  {
   "cell_type": "markdown",
   "metadata": {},
   "source": [
    "#### How many days was the wind speed between 20 and 30 miles an hour"
   ]
  },
  {
   "cell_type": "code",
   "execution_count": 136,
   "metadata": {},
   "outputs": [
    {
     "data": {
      "text/plain": [
       "32"
      ]
     },
     "execution_count": 136,
     "metadata": {},
     "output_type": "execute_result"
    }
   ],
   "source": [
    "number = df_weather[df_weather['Max_Wind_Speed_MPH'].between(20 , 30)]\n",
    "len(number)"
   ]
  }
 ],
 "metadata": {
  "kernelspec": {
   "display_name": "Python 3",
   "language": "python",
   "name": "python3"
  },
  "language_info": {
   "codemirror_mode": {
    "name": "ipython",
    "version": 3
   },
   "file_extension": ".py",
   "mimetype": "text/x-python",
   "name": "python",
   "nbconvert_exporter": "python",
   "pygments_lexer": "ipython3",
   "version": "3.7.5"
  }
 },
 "nbformat": 4,
 "nbformat_minor": 4
}
